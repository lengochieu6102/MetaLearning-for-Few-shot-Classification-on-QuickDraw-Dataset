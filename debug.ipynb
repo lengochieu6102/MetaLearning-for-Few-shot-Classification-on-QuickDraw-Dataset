{
 "cells": [
  {
   "cell_type": "code",
   "execution_count": 57,
   "metadata": {},
   "outputs": [],
   "source": [
    "import pandas as pd\n",
    "import os\n",
    "os.environ[\"CUDA_VISIBLE_DEVICES\"] = \"1\"\n",
    "df = pd.read_json('data/jsondata/alarm clock.ndjson', lines=True)\n"
   ]
  },
  {
   "cell_type": "code",
   "execution_count": 30,
   "metadata": {},
   "outputs": [
    {
     "data": {
      "text/plain": [
       "word                                                 alarm clock\n",
       "countrycode                                                   RU\n",
       "timestamp                       2017-01-27 18:31:28.932770+00:00\n",
       "recognized                                                  True\n",
       "key_id                                          5629675671912448\n",
       "drawing        [[[183, 171, 149, 134, 105, 81, 64, 50, 35, 30...\n",
       "Name: 22, dtype: object"
      ]
     },
     "execution_count": 30,
     "metadata": {},
     "output_type": "execute_result"
    }
   ],
   "source": [
    "ndjson_line = df.iloc[22]\n",
    "ndjson_line"
   ]
  },
  {
   "cell_type": "code",
   "execution_count": 31,
   "metadata": {},
   "outputs": [],
   "source": [
    "def line(x0, y0, x1, y1):\n",
    "    \"Bresenham's line algorithm\"\n",
    "    points_in_line = []\n",
    "    dx = abs(x1 - x0)\n",
    "    dy = abs(y1 - y0)\n",
    "    x, y = x0, y0\n",
    "    sx = -1 if x0 > x1 else 1\n",
    "    sy = -1 if y0 > y1 else 1\n",
    "    if dx > dy:\n",
    "        err = dx / 2.0\n",
    "        while x != x1:\n",
    "            points_in_line.append((x, y))\n",
    "            err -= dy\n",
    "            if err < 0:\n",
    "                y += sy\n",
    "                err += dx\n",
    "            x += sx\n",
    "    else:\n",
    "        err = dy / 2.0\n",
    "        while y != y1:\n",
    "            points_in_line.append((x, y))\n",
    "            err -= dx\n",
    "            if err < 0:\n",
    "                x += sx\n",
    "                err += dy\n",
    "            y += sy\n",
    "    points_in_line.append((x, y))\n",
    "    return points_in_line"
   ]
  },
  {
   "cell_type": "code",
   "execution_count": 32,
   "metadata": {},
   "outputs": [],
   "source": [
    "import numpy as np\n",
    "ink_array = ndjson_line['drawing']\n",
    "stroke_lengths = [len(stroke[0]) for stroke in ink_array]\n",
    "total_points = sum(stroke_lengths)\n",
    "np_ink = np.zeros((total_points,3),dtype=np.int16)\n",
    "current_t = 0\n",
    "for stroke in ink_array:\n",
    "    for i in [0, 1]:\n",
    "        np_ink[current_t:(current_t + len(stroke[0])), i] = stroke[i]\n",
    "    current_t += len(stroke[0])\n",
    "    np_ink[current_t - 1, 2] = 1 \n",
    "lower = np.min(np_ink[:, 0:2], axis = 0)\n",
    "upper = np.max(np_ink[:, 0:2], axis = 0)\n",
    "scale = upper-lower+1\n",
    "scale[scale==0]=1"
   ]
  },
  {
   "cell_type": "code",
   "execution_count": 33,
   "metadata": {},
   "outputs": [],
   "source": [
    "np_image = np.zeros((upper/8+1).astype(int),dtype=np.float32)\n",
    "for idx, stroke in enumerate(ink_array):\n",
    "    for i in range(stroke_lengths[idx]-1):\n",
    "        # np_ink[current_t:(current_t + len(stroke[0])), i] = stroke[i]\n",
    "        x1=int(stroke[0][i]/8)\n",
    "        y1=int(stroke[1][i]/8)\n",
    "        x2 = int(stroke[0][i+1]/8)\n",
    "        y2 = int(stroke[1][i+1]/8)\n",
    "        points_between = line(x1,y1,x2,y2)\n",
    "        for p in points_between:\n",
    "            np_image[p] = 1"
   ]
  },
  {
   "cell_type": "code",
   "execution_count": 34,
   "metadata": {},
   "outputs": [
    {
     "data": {
      "text/plain": [
       "<matplotlib.image.AxesImage at 0x7f176c18a2e0>"
      ]
     },
     "execution_count": 34,
     "metadata": {},
     "output_type": "execute_result"
    },
    {
     "data": {
      "image/png": "[encoded data removed]",
      "text/plain": [
       "<Figure size 640x480 with 1 Axes>"
      ]
     },
     "metadata": {},
     "output_type": "display_data"
    }
   ],
   "source": [
    "import matplotlib.pyplot as plt\n",
    "plt.imshow(np_image.T)"
   ]
  },
  {
   "cell_type": "code",
   "execution_count": 35,
   "metadata": {},
   "outputs": [
    {
     "data": {
      "text/plain": [
       "(29, 32)"
      ]
     },
     "execution_count": 35,
     "metadata": {},
     "output_type": "execute_result"
    }
   ],
   "source": [
    "np_image.shape"
   ]
  },
  {
   "cell_type": "code",
   "execution_count": 36,
   "metadata": {},
   "outputs": [
    {
     "data": {
      "text/plain": [
       "<matplotlib.image.AxesImage at 0x7f176702ebb0>"
      ]
     },
     "execution_count": 36,
     "metadata": {},
     "output_type": "execute_result"
    },
    {
     "data": {
      "image/png": "[encoded data removed]",
      "text/plain": [
       "<Figure size 640x480 with 1 Axes>"
      ]
     },
     "metadata": {},
     "output_type": "display_data"
    }
   ],
   "source": [
    "import torch\n",
    "import torchvision\n",
    "import torchvision.transforms as transforms\n",
    "from PIL import Image\n",
    "\n",
    "transform = transforms.Compose(\n",
    "    [transforms.ToTensor(),\n",
    "    transforms.CenterCrop((128,128)),\n",
    "    transforms.Resize((128,128))\n",
    "     ])\n",
    "plt.imshow(transform(np_image)[0].T)"
   ]
  },
  {
   "cell_type": "code",
   "execution_count": 37,
   "metadata": {},
   "outputs": [],
   "source": [
    "from datasets import Dataset\n",
    "train_ds = Dataset.from_pandas(df)\n",
    "\n",
    "train_ds = train_ds.select(range(2000))"
   ]
  },
  {
   "cell_type": "code",
   "execution_count": 38,
   "metadata": {},
   "outputs": [],
   "source": [
    "# def convert_to_features(examples):\n",
    "#     label = examples['word']\n",
    "#     ink_array = examples['drawing']\n",
    "#     stroke_lengths = [len(stroke[0]) for stroke in ink_array]\n",
    "#     np_image = np.zeros((256,256),dtype=np.float32)\n",
    "#     for idx, stroke in enumerate(ink_array):\n",
    "#         for i in range(stroke_lengths[idx]-1):\n",
    "#             # np_ink[current_t:(current_t + len(stroke[0])), i] = stroke[i]\n",
    "#             x1=stroke[0][i]\n",
    "#             y1=stroke[1][i]\n",
    "#             x2 = stroke[0][i+1]\n",
    "#             y2 = stroke[1][i+1]\n",
    "#             points_between = line(x1,y1,x2,y2)\n",
    "#             for p in points_between:\n",
    "#                 np_image[p] = 1\n",
    "#     return {'label':label, 'features':np_image}\n",
    "# train_ds = train_ds.map(convert_to_features, batched= False, num_proc= 10 )"
   ]
  },
  {
   "cell_type": "code",
   "execution_count": 39,
   "metadata": {},
   "outputs": [],
   "source": [
    "# train_ds = train_ds.remove_columns(['countrycode','timestamp','recognized','key_id','drawing','word'])"
   ]
  },
  {
   "cell_type": "code",
   "execution_count": 40,
   "metadata": {},
   "outputs": [
    {
     "name": "stdout",
     "output_type": "stream",
     "text": [
      "Init Dataset for train-100 mode\n",
      "load cache from data/data_sample/train-100.pkl\n"
     ]
    }
   ],
   "source": [
    "from torch.utils.data import Dataset\n",
    "import subprocess,os\n",
    "import pickle\n",
    "from tqdm import tqdm\n",
    "import pandas as pd\n",
    "DATA_DIR = 'data'\n",
    "class QuickDraw(Dataset):\n",
    "    def __init__(self, root, transform, mode='all', sample = 20, download = False):\n",
    "        print(f\"Init Dataset for {mode}-{sample} mode\")\n",
    "        self.root = root\n",
    "        self.transform = transform\n",
    "        self.sample = sample\n",
    "        self.mode = mode\n",
    "        self._bookkeeping_path = os.path.join(self.root, DATA_DIR,'bookkeeping' ,'quickdraw-' + mode+'-'+str(sample)+ '-bookkeeping.pkl')\n",
    "        self.data_path = os.path.join(self.root, DATA_DIR, 'jsondata')\n",
    "        dir_list = os.listdir(self.data_path)\n",
    "        if mode == \"debuging\":\n",
    "            dir_list=dir_list[:20]\n",
    "        elif mode == \"train\":\n",
    "            dir_list=dir_list[:int(len(dir_list)*0.6)]\n",
    "        elif mode == \"validation\":\n",
    "            dir_list=dir_list[int(len(dir_list)*0.6):int(len(dir_list)*0.8)]\n",
    "        elif mode == \"test\":\n",
    "            dir_list=dir_list[int(len(dir_list)*0.8):]\n",
    "        self.splits = list(map(lambda x: os.path.splitext(x)[0],dir_list))\n",
    "        if not self._check_exists() and download:\n",
    "            self.download()\n",
    "        self.load_bookkeeping()\n",
    "        self.load_data()\n",
    "\n",
    "    def _check_exists(self):\n",
    "        if not os.path.exists(self.root):\n",
    "            return False\n",
    "        if not os.path.exists(self.data_path):\n",
    "            return False\n",
    "        return True\n",
    "\n",
    "    def download(self):\n",
    "        if not os.path.exists(self.data_path):\n",
    "            os.mkdir(self.data_path)\n",
    "        print('Downloading Quickdraw dataset (25Gb)')\n",
    "        cmd = ['gsutil', '-m', 'cp','gs://quickdraw_dataset/full/simplified/*.ndjson',self.data_path]\n",
    "        subprocess.call(cmd)\n",
    "\n",
    "    def load_bookkeeping(self):\n",
    "        if not os.path.exists(self._bookkeeping_path):\n",
    "            # create bookkeeping\n",
    "            labels = list(range(len(self.splits)))\n",
    "            indices_to_labels = {}\n",
    "            labels_to_indices = {}\n",
    "            offsets = []\n",
    "            index_counter = 0\n",
    "            for cls_idx, cls_name in enumerate(self.splits):\n",
    "                if self.sample == 'all':\n",
    "                    cls_path = os.path.join(self.data_path, cls_name + '.ndjson')\n",
    "                    cls_data = pd.read_json(cls_path, lines=True)\n",
    "                    num_samples = cls_data.shape[0]\n",
    "                else:\n",
    "                    num_samples = self.sample\n",
    "                labels_to_indices[cls_idx] = list(range(index_counter, index_counter + num_samples))\n",
    "                for i in range(num_samples):\n",
    "                    indices_to_labels[index_counter + i] = cls_idx\n",
    "                offsets.append(index_counter)\n",
    "                index_counter += num_samples\n",
    "            bookkeeping = {\n",
    "                'labels_to_indices': labels_to_indices,\n",
    "                'indices_to_labels': indices_to_labels,\n",
    "                'labels': labels,\n",
    "                'offsets': offsets,\n",
    "            }\n",
    "            # Save bookkeeping to disk\n",
    "            with open(self._bookkeeping_path, 'wb') as f:\n",
    "                pickle.dump(bookkeeping, f, protocol=-1)\n",
    "        else:\n",
    "            with open(self._bookkeeping_path, 'rb') as f:\n",
    "                bookkeeping = pickle.load(f)\n",
    "        self._bookkeeping = bookkeeping\n",
    "        self.labels_to_indices = bookkeeping['labels_to_indices']\n",
    "        self.indices_to_labels = bookkeeping['indices_to_labels']\n",
    "        self.labels = bookkeeping['labels']\n",
    "        self.offsets = bookkeeping['offsets']\n",
    "\n",
    "    def load_data(self):\n",
    "        self.data = []\n",
    "        # load cache if exist\n",
    "        cache_path = f'data/data_sample/{self.mode}-{self.sample}.pkl'\n",
    "        if not os.path.exists(cache_path):\n",
    "            bar = tqdm(enumerate(self.splits), total=len(self.splits))\n",
    "            for i,cls_name in bar:\n",
    "                bar.set_postfix(data_path = cls_name)\n",
    "                cls_path = os.path.join(self.data_path, cls_name + '.ndjson')\n",
    "                data_df = pd.read_json(cls_path, lines=True)\n",
    "                if self.sample == 'all':\n",
    "                    self.data.append(data_df)\n",
    "                else: \n",
    "                    self.data.append(data_df.sample(self.sample))\n",
    "            self.data = pd.concat(self.data, ignore_index= True)\n",
    "            self.data.to_pickle(cache_path)\n",
    "            print(f'save cache to {cache_path}')        \n",
    "        else:\n",
    "            print(f'load cache from {cache_path}')\n",
    "            self.data = pd.read_pickle(cache_path)\n",
    "\n",
    "    def __getitem__(self, i):\n",
    "        label = self.indices_to_labels[i]\n",
    "        ink_array = self.data.iloc[i]['drawing']\n",
    "        offset = self.offsets[label]\n",
    "        np_image = self.convert_strokes_to_image(ink_array)\n",
    "        if self.transform:\n",
    "            features = self.transform(np_image)\n",
    "        return features, label\n",
    "\n",
    "    def __len__(self):\n",
    "        return len(self.indices_to_labels)\n",
    "    \n",
    "    def convert_strokes_to_image(self,ink_array):\n",
    "        stroke_lengths = [len(stroke[0]) for stroke in ink_array]\n",
    "        total_points = sum(stroke_lengths)\n",
    "        np_ink = np.zeros((total_points,3),dtype=np.int16)\n",
    "        current_t = 0\n",
    "        for stroke in ink_array:\n",
    "            for i in [0, 1]:\n",
    "                np_ink[current_t:(current_t + len(stroke[0])), i] = stroke[i]\n",
    "            current_t += len(stroke[0])\n",
    "            np_ink[current_t - 1, 2] = 1 \n",
    "        # lower = np.min(np_ink[:, 0:2], axis = 0)\n",
    "        upper = np.max(np_ink[:, 0:2], axis = 0)\n",
    "        np_image = np.zeros((upper/2+1).astype(int),dtype=np.float32)\n",
    "        for idx, stroke in enumerate(ink_array):\n",
    "            for i in range(stroke_lengths[idx]-1):\n",
    "                # np_ink[current_t:(current_t + len(stroke[0])), i] = stroke[i]\n",
    "                x1=int(stroke[0][i]/2)\n",
    "                y1=int(stroke[1][i]/2)\n",
    "                x2 = int(stroke[0][i+1]/2)\n",
    "                y2 = int(stroke[1][i+1]/2)\n",
    "                points_between = line(x1,y1,x2,y2)\n",
    "                for p in points_between:\n",
    "                    np_image[p] = 1\n",
    "        return np_image\n",
    "                \n",
    "\n",
    "train_ds = QuickDraw(root='./', transform= transform, mode='train',sample= 100)"
   ]
  },
  {
   "cell_type": "code",
   "execution_count": 41,
   "metadata": {},
   "outputs": [
    {
     "name": "stdout",
     "output_type": "stream",
     "text": [
      "Init Dataset for validation-100 mode\n",
      "load cache from data/data_sample/validation-100.pkl\n",
      "Init Dataset for test-100 mode\n",
      "load cache from data/data_sample/test-100.pkl\n"
     ]
    }
   ],
   "source": [
    "valid_ds =  QuickDraw(root='./', transform= transform, mode='validation',sample= 100)\n",
    "test_ds =  QuickDraw(root='./', transform= transform, mode='test',sample= 100)\n"
   ]
  },
  {
   "cell_type": "code",
   "execution_count": 42,
   "metadata": {},
   "outputs": [
    {
     "data": {
      "text/plain": [
       "<matplotlib.image.AxesImage at 0x7f170e1c00a0>"
      ]
     },
     "execution_count": 42,
     "metadata": {},
     "output_type": "execute_result"
    },
    {
     "data": {
      "image/png": "[encoded data removed]",
      "text/plain": [
       "<Figure size 640x480 with 1 Axes>"
      ]
     },
     "metadata": {},
     "output_type": "display_data"
    }
   ],
   "source": [
    "plt.imshow(train_ds[2][0].T)"
   ]
  },
  {
   "cell_type": "code",
   "execution_count": 43,
   "metadata": {},
   "outputs": [],
   "source": [
    "# path = \"data/jsondata\"\n",
    "# dir_list = os.listdir(path)\n",
    "# splits = list(map(lambda x: os.path.splitext(x)[0],dir_list))\n",
    "# labels = list(range(len(splits)))\n",
    "# splits"
   ]
  },
  {
   "cell_type": "code",
   "execution_count": 44,
   "metadata": {},
   "outputs": [
    {
     "name": "stderr",
     "output_type": "stream",
     "text": [
      "/tmp/ipykernel_800003/3373575355.py:4: DeprecationWarning: LANCZOS is deprecated and will be removed in Pillow 10 (2023-07-01). Use Resampling.LANCZOS instead.\n",
      "  from PIL.Image import LANCZOS\n"
     ]
    }
   ],
   "source": [
    "import os, random, pickle, itertools, copy\n",
    "import learn2learn as l2l\n",
    "import torchvision as tv\n",
    "from PIL.Image import LANCZOS\n",
    "from learn2learn.data.transforms import NWays, KShots, LoadData, RemapLabels, ConsecutiveLabels\n",
    "from learn2learn.vision.transforms import RandomClassRotation\n",
    "from collections import defaultdict"
   ]
  },
  {
   "cell_type": "code",
   "execution_count": 45,
   "metadata": {},
   "outputs": [],
   "source": [
    "quickdraw = l2l.data.MetaDataset(train_ds)"
   ]
  },
  {
   "cell_type": "code",
   "execution_count": 62,
   "metadata": {},
   "outputs": [],
   "source": [
    "batch_size = 10\n",
    "num_epoch = 50\n",
    "num_batch = 100\n",
    "ways = 5\n",
    "shots = 5\n",
    "transforms_learn = [\n",
    "    l2l.data.transforms.NWays(quickdraw, n=5),\n",
    "    l2l.data.transforms.KShots(quickdraw, k=5*2),\n",
    "    l2l.data.transforms.LoadData(quickdraw),\n",
    "    l2l.data.transforms.RemapLabels(quickdraw),\n",
    "    l2l.data.transforms.ConsecutiveLabels(quickdraw)\n",
    "]\n",
    "taskset = l2l.data.TaskDataset(dataset = quickdraw, task_transforms = transforms_learn, num_tasks=30000)\n",
    "val_taskset = l2l.data.TaskDataset(dataset = valid_ds, task_transforms = transforms_learn, num_tasks=5000)\n",
    "test_taskset = l2l.data.TaskDataset(dataset = test_ds, task_transforms = transforms_learn, num_tasks=5000)\n",
    "# for task in taskset:\n",
    "#     X, y = task"
   ]
  },
  {
   "cell_type": "code",
   "execution_count": 47,
   "metadata": {},
   "outputs": [],
   "source": [
    "# from torch.utils.data import DataLoader\n",
    "# from learn2learn.data import InfiniteIterator\n",
    "# dataloader = DataLoader(taskset, shuffle=True, batch_size=batch_size)\n",
    "# inf_dataloader = InfiniteIterator(dataloader)\n",
    "# for iteration in range(num_batch):  # guaranteed to reach 10,000 regardless of len(dataloader)\n",
    "#     X, y = next(inf_dataloader)\n",
    "#     print(y)"
   ]
  },
  {
   "cell_type": "code",
   "execution_count": 48,
   "metadata": {},
   "outputs": [],
   "source": [
    "def maml_init_(module):\n",
    "    torch.nn.init.xavier_uniform_(module.weight.data, gain=1.0)\n",
    "    torch.nn.init.constant_(module.bias.data, 0.0)\n",
    "    return module\n",
    "    \n",
    "class ConvBlock(torch.nn.Module):\n",
    "\n",
    "    def __init__(self,\n",
    "                 in_channels,\n",
    "                 out_channels,\n",
    "                 kernel_size,\n",
    "                 max_pool=True,\n",
    "                 max_pool_factor=1.0):\n",
    "        super(ConvBlock, self).__init__()\n",
    "        stride = (int(2 * max_pool_factor), int(2 * max_pool_factor))\n",
    "        if max_pool:\n",
    "            self.max_pool = torch.nn.MaxPool2d(\n",
    "                kernel_size=stride,\n",
    "                stride=stride,\n",
    "                # ceil_mode=False,\n",
    "            )\n",
    "            stride = (1, 1)\n",
    "        else:\n",
    "            self.max_pool = lambda x: x\n",
    "        self.normalize = torch.nn.BatchNorm2d(\n",
    "            out_channels,\n",
    "            affine=True,\n",
    "            # eps=1e-3,\n",
    "            # momentum=0.999,\n",
    "            # track_running_stats=False,\n",
    "        )\n",
    "        torch.nn.init.uniform_(self.normalize.weight)\n",
    "        self.relu = torch.nn.ReLU()\n",
    "        \n",
    "        self.conv = torch.nn.Conv2d(\n",
    "            in_channels,\n",
    "            out_channels,\n",
    "            kernel_size,\n",
    "            stride=stride,\n",
    "            padding=1,\n",
    "            bias=True,\n",
    "        )\n",
    "        maml_init_(self.conv)\n",
    "\n",
    "    def forward(self, x):\n",
    "        x = self.conv(x)\n",
    "        x = self.normalize(x)\n",
    "        x = self.relu(x)\n",
    "        x = self.max_pool(x)\n",
    "\n",
    "        return x"
   ]
  },
  {
   "cell_type": "code",
   "execution_count": 49,
   "metadata": {},
   "outputs": [
    {
     "data": {
      "text/plain": [
       "torch.Size([3, 32, 64, 64])"
      ]
     },
     "execution_count": 49,
     "metadata": {},
     "output_type": "execute_result"
    }
   ],
   "source": [
    "input_tensor = torch.randn(3,1,128,128)\n",
    "conv_block = ConvBlock(1,32,3)\n",
    "conv_block(input_tensor).shape"
   ]
  },
  {
   "cell_type": "code",
   "execution_count": 50,
   "metadata": {},
   "outputs": [],
   "source": [
    "from collections import OrderedDict\n",
    "class QuicDrawCNN(torch.nn.Module):\n",
    "    def __init__(self,\n",
    "                channels,\n",
    "                out_features,\n",
    "                hidden=64,\n",
    "                max_pool=True,\n",
    "                layers=4,\n",
    "                max_pool_factor=1.0):\n",
    "        super(QuicDrawCNN, self).__init__()\n",
    "        self.in_channels = channels\n",
    "        self.out_features = out_features\n",
    "        self.hidden_size = hidden\n",
    "\n",
    "        core = [('layer1',ConvBlock(channels,\n",
    "                          hidden,\n",
    "                          (3, 3),\n",
    "                          max_pool=max_pool,\n",
    "                          max_pool_factor=max_pool_factor),\n",
    "                )]\n",
    "        for i in range(layers - 1):\n",
    "            core.append((f'layer{i+2}',ConvBlock(hidden,\n",
    "                                  hidden,\n",
    "                                  kernel_size=(3, 3),\n",
    "                                  max_pool=max_pool,\n",
    "                                  max_pool_factor=max_pool_factor)))\n",
    "        self.features = torch.nn.Sequential(OrderedDict(core))\n",
    "        # self.classifier = torch.nn.Linear(hidden*8*8, out_features, bias = True)\n",
    "        # self.classifier.weight.data.normal_()\n",
    "        # self.classifier.bias.data.mul_(0.0)\n",
    "\n",
    "    def forward(self, inputs, params=None):\n",
    "        features = self.features(inputs)\n",
    "        # features = features.view(features.size(0), -1)\n",
    "        # logits = self.classifier(features)\n",
    "        return features"
   ]
  },
  {
   "cell_type": "code",
   "execution_count": 51,
   "metadata": {},
   "outputs": [],
   "source": [
    "model = QuicDrawCNN(1, 5, 64)\n",
    "fast_lr = 0.005\n",
    "lr = 0.0005\n",
    "adaptation_steps = 5\n",
    "# all_parameters = model.parameters()\n",
    "# optimizer = torch.optim.Adam(all_parameters, lr=lr)\n",
    "# model = l2l.algorithms.MAML(model, lr= fast_lr)\n",
    "# loss = torch.nn.CrossEntropyLoss(reduction='mean')\n",
    "device = torch.device('cuda' if torch.cuda.is_available() else 'cpu')\n",
    "# model.to(device)\n",
    "\n",
    "# features = l2l.vision.models.ConvBase(hidden=64, channels=1, max_pool=True)\n",
    "features = torch.nn.Sequential(model, l2l.nn.Lambda(lambda x: x.view(-1, 64*8*8)))\n",
    "features.to(device)\n",
    "head = torch.nn.Linear(64*8*8, ways)\n",
    "head = l2l.algorithms.MAML(head, lr=fast_lr)\n",
    "head.to(device)\n",
    "all_parameters = list(features.parameters()) + list(head.parameters())\n",
    "loss = torch.nn.CrossEntropyLoss(reduction='mean')\n",
    "optimizer = torch.optim.Adam(all_parameters, lr=lr)\n",
    "\n"
   ]
  },
  {
   "cell_type": "code",
   "execution_count": 52,
   "metadata": {},
   "outputs": [],
   "source": [
    "x,y = taskset.sample()"
   ]
  },
  {
   "cell_type": "code",
   "execution_count": 53,
   "metadata": {},
   "outputs": [],
   "source": [
    "x = x.to(device)"
   ]
  },
  {
   "cell_type": "code",
   "execution_count": 54,
   "metadata": {},
   "outputs": [],
   "source": [
    "def accuracy(predictions, query_labels):\n",
    "    predictions = torch.argmax(predictions, dim = -1)\n",
    "    num_data = predictions.size(0)\n",
    "    true_predict = torch.sum(predictions == query_labels)\n",
    "    return  true_predict/num_data\n",
    "\n",
    "def fast_adapt(batch, learner,features, loss, adaptation_steps, shots,\n",
    "               ways, device=None):\n",
    "    data, labels = batch\n",
    "    data, labels = data.to(device), labels.to(device)\n",
    "    data =  features(data)\n",
    "    # Separate data into adaptation/evaluation sets\n",
    "    support_indices = np.zeros(data.size(0), dtype=bool)\n",
    "    support_indices[np.arange(shots*ways) * 2] = True\n",
    "    query_indices = torch.from_numpy(~support_indices)\n",
    "    support_indices = torch.from_numpy(support_indices)\n",
    "    support_data, support_labels = data[support_indices], labels[support_indices]\n",
    "    query_data, query_labels = data[query_indices], labels[query_indices]\n",
    "\n",
    "    for step in range(adaptation_steps):\n",
    "        train_error = loss(learner(support_data), support_labels)\n",
    "        learner.adapt(train_error)\n",
    "\n",
    "    predictions = learner(query_data)\n",
    "    query_error = loss(predictions, query_labels)\n",
    "    query_accuracy = accuracy(predictions, query_labels)\n",
    "    return query_error, query_accuracy"
   ]
  },
  {
   "cell_type": "code",
   "execution_count": 63,
   "metadata": {},
   "outputs": [
    {
     "name": "stderr",
     "output_type": "stream",
     "text": [
      "  0%|          | 0/100000 [00:01<?, ?it/s]\n"
     ]
    },
    {
     "ename": "KeyboardInterrupt",
     "evalue": "",
     "output_type": "error",
     "traceback": [
      "\u001b[0;31m---------------------------------------------------------------------------\u001b[0m",
      "\u001b[0;31mKeyboardInterrupt\u001b[0m                         Traceback (most recent call last)",
      "\u001b[1;32m/root/hieu/few-shot/debug.ipynb Cell 27\u001b[0m in \u001b[0;36m<cell line: 6>\u001b[0;34m()\u001b[0m\n\u001b[1;32m     <a href='vscode-notebook-cell://ssh-remote%2B172.29.64.76/root/hieu/few-shot/debug.ipynb#X35sdnNjb2RlLXJlbW90ZQ%3D%3D?line=26'>27</a>\u001b[0m learner \u001b[39m=\u001b[39m head\u001b[39m.\u001b[39mclone()\n\u001b[1;32m     <a href='vscode-notebook-cell://ssh-remote%2B172.29.64.76/root/hieu/few-shot/debug.ipynb#X35sdnNjb2RlLXJlbW90ZQ%3D%3D?line=27'>28</a>\u001b[0m batch \u001b[39m=\u001b[39m test_taskset\u001b[39m.\u001b[39msample()\n\u001b[0;32m---> <a href='vscode-notebook-cell://ssh-remote%2B172.29.64.76/root/hieu/few-shot/debug.ipynb#X35sdnNjb2RlLXJlbW90ZQ%3D%3D?line=28'>29</a>\u001b[0m query_error, query_accuracy \u001b[39m=\u001b[39m fast_adapt(batch,learner,features, loss, adaptation_steps, shots, ways, device)\n\u001b[1;32m     <a href='vscode-notebook-cell://ssh-remote%2B172.29.64.76/root/hieu/few-shot/debug.ipynb#X35sdnNjb2RlLXJlbW90ZQ%3D%3D?line=29'>30</a>\u001b[0m meta_valid_error \u001b[39m+\u001b[39m\u001b[39m=\u001b[39m query_error\u001b[39m.\u001b[39mitem()\n\u001b[1;32m     <a href='vscode-notebook-cell://ssh-remote%2B172.29.64.76/root/hieu/few-shot/debug.ipynb#X35sdnNjb2RlLXJlbW90ZQ%3D%3D?line=30'>31</a>\u001b[0m meta_valid_accuracy \u001b[39m+\u001b[39m\u001b[39m=\u001b[39m query_accuracy\u001b[39m.\u001b[39mitem()\n",
      "\u001b[1;32m/root/hieu/few-shot/debug.ipynb Cell 27\u001b[0m in \u001b[0;36mfast_adapt\u001b[0;34m(batch, learner, features, loss, adaptation_steps, shots, ways, device)\u001b[0m\n\u001b[1;32m     <a href='vscode-notebook-cell://ssh-remote%2B172.29.64.76/root/hieu/few-shot/debug.ipynb#X35sdnNjb2RlLXJlbW90ZQ%3D%3D?line=14'>15</a>\u001b[0m query_indices \u001b[39m=\u001b[39m torch\u001b[39m.\u001b[39mfrom_numpy(\u001b[39m~\u001b[39msupport_indices)\n\u001b[1;32m     <a href='vscode-notebook-cell://ssh-remote%2B172.29.64.76/root/hieu/few-shot/debug.ipynb#X35sdnNjb2RlLXJlbW90ZQ%3D%3D?line=15'>16</a>\u001b[0m support_indices \u001b[39m=\u001b[39m torch\u001b[39m.\u001b[39mfrom_numpy(support_indices)\n\u001b[0;32m---> <a href='vscode-notebook-cell://ssh-remote%2B172.29.64.76/root/hieu/few-shot/debug.ipynb#X35sdnNjb2RlLXJlbW90ZQ%3D%3D?line=16'>17</a>\u001b[0m support_data, support_labels \u001b[39m=\u001b[39m data[support_indices], labels[support_indices]\n\u001b[1;32m     <a href='vscode-notebook-cell://ssh-remote%2B172.29.64.76/root/hieu/few-shot/debug.ipynb#X35sdnNjb2RlLXJlbW90ZQ%3D%3D?line=17'>18</a>\u001b[0m query_data, query_labels \u001b[39m=\u001b[39m data[query_indices], labels[query_indices]\n\u001b[1;32m     <a href='vscode-notebook-cell://ssh-remote%2B172.29.64.76/root/hieu/few-shot/debug.ipynb#X35sdnNjb2RlLXJlbW90ZQ%3D%3D?line=19'>20</a>\u001b[0m \u001b[39mfor\u001b[39;00m step \u001b[39min\u001b[39;00m \u001b[39mrange\u001b[39m(adaptation_steps):\n",
      "\u001b[0;31mKeyboardInterrupt\u001b[0m: "
     ]
    }
   ],
   "source": [
    "from torch.utils.tensorboard import SummaryWriter\n",
    "from tqdm import tqdm\n",
    "name = '1'\n",
    "writer = SummaryWriter(f'runs/{name}')\n",
    "bar = tqdm(range(100000))\n",
    "for iteration in bar:\n",
    "    optimizer.zero_grad()\n",
    "    meta_train_error = 0\n",
    "    meta_train_accuracy = 0\n",
    "    meta_valid_error = 0 \n",
    "    meta_valid_accuracy = 0\n",
    "    for task in range(batch_size):\n",
    "        # Compute meta-training loss\n",
    "        learner = head.clone()\n",
    "        batch = taskset.sample()\n",
    "        query_error, query_accuracy = fast_adapt(batch, learner,features, loss, adaptation_steps, shots, ways, device)\n",
    "        query_error.backward()\n",
    "        meta_train_error += query_error.item()\n",
    "        meta_train_accuracy += query_accuracy.item()\n",
    "\n",
    "        # Average the accumulated gradients and optimize\n",
    "        for p in all_parameters:\n",
    "            p.grad.data.mul_(1.0 / batch_size)\n",
    "        optimizer.step()\n",
    "\n",
    "        # Compute meta-validation loss\n",
    "        learner = head.clone()\n",
    "        batch = test_taskset.sample()\n",
    "        query_error, query_accuracy = fast_adapt(batch,learner,features, loss, adaptation_steps, shots, ways, device)\n",
    "        meta_valid_error += query_error.item()\n",
    "        meta_valid_accuracy += query_accuracy.item()\n",
    "        \n",
    "    iter_error = meta_train_error/batch_size\n",
    "    iter_acc = meta_train_accuracy/batch_size\n",
    "    bar.set_postfix({'train loss': iter_error, 'train accuracy': iter_acc})\n",
    "    writer.add_scalar('train loss', iter_error, iteration)\n",
    "    writer.add_scalar('train accuracy', iter_acc, iteration)\n",
    "    \n",
    "meta_test_error = 0.0\n",
    "meta_test_accuracy = 0.0\n",
    "for task in range(batch_size):\n",
    "    # Compute meta-testing loss\n",
    "    learner = head.clone()\n",
    "    batch = test_taskset.sample()\n",
    "    query_error, query_accuracy = fast_adapt(batch,learner,features, loss, adaptation_steps, shots, ways, device)\n",
    "    meta_test_error += query_error.item()\n",
    "    meta_test_accuracy += query_accuracy.item()\n",
    "print('Meta Test Error', meta_test_error / batch_size)\n",
    "print('Meta Test Accuracy', meta_test_accuracy / batch_size)\n",
    "    \n",
    "        "
   ]
  },
  {
   "cell_type": "code",
   "execution_count": 71,
   "metadata": {},
   "outputs": [],
   "source": [
    "writer.add_hparams(hparam_dict= {'ways':2, 'shots':2, 'sample':20}, metric_dict = {'test_loss': 1, 'test_acc': 2})"
   ]
  },
  {
   "cell_type": "code",
   "execution_count": 59,
   "metadata": {},
   "outputs": [],
   "source": [
    "from learn2learn.data import partition_task\n",
    "\n",
    "x, y = taskset.sample()\n",
    "x, y = x.to(device), y.to(device)\n",
    "x = features(x)\n",
    "learner = head.clone()\n",
    "(adapt_data, adapt_labels), (eval_data, eval_labels) = partition_task(x, y, shots=5)\n",
    "train_error = loss(learner(adapt_data), adapt_labels)\n",
    "learner.adapt(train_error)"
   ]
  },
  {
   "cell_type": "code",
   "execution_count": 61,
   "metadata": {},
   "outputs": [
    {
     "ename": "AttributeError",
     "evalue": "'Linear' object has no attribute 'evaluate'",
     "output_type": "error",
     "traceback": [
      "\u001b[0;31m---------------------------------------------------------------------------\u001b[0m",
      "\u001b[0;31mAttributeError\u001b[0m                            Traceback (most recent call last)",
      "File \u001b[0;32m~/khang/anaconda3/envs/hieu/lib/python3.9/site-packages/learn2learn/algorithms/base_learner.py:14\u001b[0m, in \u001b[0;36mBaseLearner.__getattr__\u001b[0;34m(self, attr)\u001b[0m\n\u001b[1;32m     13\u001b[0m \u001b[39mtry\u001b[39;00m:\n\u001b[0;32m---> 14\u001b[0m     \u001b[39mreturn\u001b[39;00m \u001b[39msuper\u001b[39;49m(BaseLearner, \u001b[39mself\u001b[39;49m)\u001b[39m.\u001b[39;49m\u001b[39m__getattr__\u001b[39;49m(attr)\n\u001b[1;32m     15\u001b[0m \u001b[39mexcept\u001b[39;00m \u001b[39mAttributeError\u001b[39;00m:\n",
      "File \u001b[0;32m~/khang/anaconda3/envs/hieu/lib/python3.9/site-packages/torch/nn/modules/module.py:1265\u001b[0m, in \u001b[0;36mModule.__getattr__\u001b[0;34m(self, name)\u001b[0m\n\u001b[1;32m   1264\u001b[0m         \u001b[39mreturn\u001b[39;00m modules[name]\n\u001b[0;32m-> 1265\u001b[0m \u001b[39mraise\u001b[39;00m \u001b[39mAttributeError\u001b[39;00m(\u001b[39m\"\u001b[39m\u001b[39m'\u001b[39m\u001b[39m{}\u001b[39;00m\u001b[39m'\u001b[39m\u001b[39m object has no attribute \u001b[39m\u001b[39m'\u001b[39m\u001b[39m{}\u001b[39;00m\u001b[39m'\u001b[39m\u001b[39m\"\u001b[39m\u001b[39m.\u001b[39mformat(\n\u001b[1;32m   1266\u001b[0m     \u001b[39mtype\u001b[39m(\u001b[39mself\u001b[39m)\u001b[39m.\u001b[39m\u001b[39m__name__\u001b[39m, name))\n",
      "\u001b[0;31mAttributeError\u001b[0m: 'MAML' object has no attribute 'evaluate'",
      "\nDuring handling of the above exception, another exception occurred:\n",
      "\u001b[0;31mAttributeError\u001b[0m                            Traceback (most recent call last)",
      "\u001b[1;32m/root/hieu/few-shot/debug.ipynb Cell 29\u001b[0m in \u001b[0;36m<cell line: 1>\u001b[0;34m()\u001b[0m\n\u001b[0;32m----> <a href='vscode-notebook-cell://ssh-remote%2B172.29.64.76/root/hieu/few-shot/debug.ipynb#X42sdnNjb2RlLXJlbW90ZQ%3D%3D?line=0'>1</a>\u001b[0m learner\u001b[39m.\u001b[39;49mevaluate(eval_data)\n",
      "File \u001b[0;32m~/khang/anaconda3/envs/hieu/lib/python3.9/site-packages/learn2learn/algorithms/base_learner.py:16\u001b[0m, in \u001b[0;36mBaseLearner.__getattr__\u001b[0;34m(self, attr)\u001b[0m\n\u001b[1;32m     14\u001b[0m     \u001b[39mreturn\u001b[39;00m \u001b[39msuper\u001b[39m(BaseLearner, \u001b[39mself\u001b[39m)\u001b[39m.\u001b[39m\u001b[39m__getattr__\u001b[39m(attr)\n\u001b[1;32m     15\u001b[0m \u001b[39mexcept\u001b[39;00m \u001b[39mAttributeError\u001b[39;00m:\n\u001b[0;32m---> 16\u001b[0m     \u001b[39mreturn\u001b[39;00m \u001b[39mgetattr\u001b[39;49m(\u001b[39mself\u001b[39;49m\u001b[39m.\u001b[39;49m\u001b[39m__dict__\u001b[39;49m[\u001b[39m'\u001b[39;49m\u001b[39m_modules\u001b[39;49m\u001b[39m'\u001b[39;49m][\u001b[39m'\u001b[39;49m\u001b[39mmodule\u001b[39;49m\u001b[39m'\u001b[39;49m], attr)\n",
      "File \u001b[0;32m~/khang/anaconda3/envs/hieu/lib/python3.9/site-packages/torch/nn/modules/module.py:1265\u001b[0m, in \u001b[0;36mModule.__getattr__\u001b[0;34m(self, name)\u001b[0m\n\u001b[1;32m   1263\u001b[0m     \u001b[39mif\u001b[39;00m name \u001b[39min\u001b[39;00m modules:\n\u001b[1;32m   1264\u001b[0m         \u001b[39mreturn\u001b[39;00m modules[name]\n\u001b[0;32m-> 1265\u001b[0m \u001b[39mraise\u001b[39;00m \u001b[39mAttributeError\u001b[39;00m(\u001b[39m\"\u001b[39m\u001b[39m'\u001b[39m\u001b[39m{}\u001b[39;00m\u001b[39m'\u001b[39m\u001b[39m object has no attribute \u001b[39m\u001b[39m'\u001b[39m\u001b[39m{}\u001b[39;00m\u001b[39m'\u001b[39m\u001b[39m\"\u001b[39m\u001b[39m.\u001b[39mformat(\n\u001b[1;32m   1266\u001b[0m     \u001b[39mtype\u001b[39m(\u001b[39mself\u001b[39m)\u001b[39m.\u001b[39m\u001b[39m__name__\u001b[39m, name))\n",
      "\u001b[0;31mAttributeError\u001b[0m: 'Linear' object has no attribute 'evaluate'"
     ]
    }
   ],
   "source": [
    "learner.evaluate(eval_data)"
   ]
  },
  {
   "attachments": {},
   "cell_type": "markdown",
   "metadata": {},
   "source": [
    "To do\n",
    "- Write result on tensorboard\n",
    "- Run valid and test set\n",
    "- Refactor to files and add parser\n",
    "- Push to github\n",
    "(Run with (5000 iter))"
   ]
  },
  {
   "cell_type": "markdown",
   "metadata": {},
   "source": []
  }
 ],
 "metadata": {
  "kernelspec": {
   "display_name": "hieu",
   "language": "python",
   "name": "python3"
  },
  "language_info": {
   "codemirror_mode": {
    "name": "ipython",
    "version": 3
   },
   "file_extension": ".py",
   "mimetype": "text/x-python",
   "name": "python",
   "nbconvert_exporter": "python",
   "pygments_lexer": "ipython3",
   "version": "3.9.15"
  },
  "orig_nbformat": 4,
  "vscode": {
   "interpreter": {
    "hash": "11015017628b25407c3672df52c89d2676de6a5c72bc2053cd2d680e0490fd2d"
   }
  }
 },
 "nbformat": 4,
 "nbformat_minor": 2
}
